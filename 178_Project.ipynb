{
 "cells": [
  {
   "cell_type": "code",
   "execution_count": 2,
   "id": "4adf8f38",
   "metadata": {},
   "outputs": [],
   "source": [
    "import numpy as np\n",
    "import pandas as pd\n",
    "import matplotlib.pyplot as plt\n",
    "from sklearn.metrics import mean_squared_error\n",
    "from sklearn.model_selection import train_test_split\n",
    "from six.moves import cPickle\n",
    "\n",
    "\n",
    "# Fix the random seed for reproducibility\n",
    "# !! Important !! : do not change this\n",
    "seed = 1234\n",
    "np.random.seed(seed)  "
   ]
  },
  {
   "cell_type": "code",
   "execution_count": 3,
   "id": "b64d9b63",
   "metadata": {},
   "outputs": [
    {
     "name": "stdout",
     "output_type": "stream",
     "text": [
      "['airplane', 'automobile', 'bird', 'cat', 'deer', 'dog', 'frog', 'horse', 'ship', 'truck']\n"
     ]
    }
   ],
   "source": [
    "# Load meta data from given file path\n",
    "meta_file = r\"cifar-10-batches-py\\batches.meta\"\n",
    "f = open(meta_file, 'rb')\n",
    "meta_data = cPickle.load(f, encoding='latin1')\n",
    "f.close\n",
    "print(meta_data['label_names'])"
   ]
  },
  {
   "cell_type": "code",
   "execution_count": 4,
   "id": "f6bcddd4",
   "metadata": {},
   "outputs": [],
   "source": [
    "def process_data(Path):\n",
    "    f = open(Path, 'rb')\n",
    "    datadict = cPickle.load(f, encoding='latin1')\n",
    "    f.close()\n",
    "    X = datadict['data']\n",
    "    y = datadict['labels']\n",
    "    return X, y"
   ]
  },
  {
   "cell_type": "code",
   "execution_count": 25,
   "id": "9be8bf71",
   "metadata": {},
   "outputs": [
    {
     "name": "stdout",
     "output_type": "stream",
     "text": [
      "(10000, 3072)\n",
      "(10000,)\n",
      "(6000, 3072)\n",
      "(6000,)\n",
      "(2000, 3072)\n",
      "(2000,)\n",
      "(2000, 3072)\n",
      "(2000,)\n"
     ]
    }
   ],
   "source": [
    "#Process data from given file path\n",
    "p = r\"cifar-10-batches-py\\data_batch_1\"\n",
    "X, y = process_data(p)\n",
    "X = np.array(X)\n",
    "y = np.array(y)\n",
    "X_train, X_last_test, y_train, y_last_test = train_test_split(X, y, test_size=0.20, random_state=seed)\n",
    "X_train, X_test, y_train, y_test = train_test_split(X_train, y_train, test_size=0.25, random_state=seed)\n",
    "\n",
    "\n",
    "# X and Y are original shape\n",
    "print(X.shape)\n",
    "print(y.shape)\n",
    "\n",
    "# X_train and y_train are for training\n",
    "print(X_train.shape)\n",
    "print(y_train.shape)\n",
    "\n",
    "# X_test and y_test are for validation\n",
    "print(X_test.shape)\n",
    "print(y_test.shape)\n",
    "\n",
    "# x_last_test and y_last_test are for\n",
    "#a test dataset that is only used once at the end of your project for final evaluation of models\n",
    "print(X_last_test.shape)\n",
    "print(y_last_test.shape)\n"
   ]
  },
  {
   "cell_type": "markdown",
   "id": "0e0fe1c0",
   "metadata": {},
   "source": [
    "# KNN\n"
   ]
  },
  {
   "cell_type": "code",
   "execution_count": 30,
   "id": "38905446",
   "metadata": {},
   "outputs": [],
   "source": [
    "import numpy as np\n",
    "import pandas as pd\n",
    "import math\n",
    "import matplotlib.pyplot as plt\n",
    "\n",
    "from sklearn.datasets import fetch_openml\n",
    "from sklearn.neighbors import KNeighborsClassifier, NearestCentroid\n",
    "from sklearn.metrics import accuracy_score, confusion_matrix, ConfusionMatrixDisplay\n",
    "from sklearn.model_selection import train_test_split\n",
    "from sklearn.inspection import DecisionBoundaryDisplay\n",
    "from sklearn.preprocessing import LabelEncoder, StandardScaler\n",
    "from sklearn.linear_model import LogisticRegression\n",
    "from sklearn.feature_extraction.text import CountVectorizer\n",
    "\n"
   ]
  },
  {
   "cell_type": "code",
   "execution_count": 32,
   "id": "aad65412",
   "metadata": {},
   "outputs": [
    {
     "name": "stdout",
     "output_type": "stream",
     "text": [
      "[1.0, 0.45116666666666666, 0.38, 0.31216666666666665, 0.29083333333333333, 0.282, 0.2748333333333333, 0.2648333333333333, 0.24533333333333332]\n",
      "[0.2685, 0.275, 0.288, 0.267, 0.2555, 0.2515, 0.2415, 0.2415, 0.237]\n"
     ]
    },
    {
     "ename": "NameError",
     "evalue": "name 'n' is not defined",
     "output_type": "error",
     "traceback": [
      "\u001b[1;31m---------------------------------------------------------------------------\u001b[0m",
      "\u001b[1;31mNameError\u001b[0m                                 Traceback (most recent call last)",
      "Cell \u001b[1;32mIn[32], line 25\u001b[0m\n\u001b[0;32m     22\u001b[0m \u001b[38;5;28mprint\u001b[39m(tr_acc)\n\u001b[0;32m     23\u001b[0m \u001b[38;5;28mprint\u001b[39m(te_acc)\n\u001b[1;32m---> 25\u001b[0m \u001b[38;5;28mprint\u001b[39m(\u001b[38;5;124m\"\u001b[39m\u001b[38;5;124mbest\u001b[39m\u001b[38;5;124m\"\u001b[39m,\u001b[43mn\u001b[49m[np\u001b[38;5;241m.\u001b[39margmax(te_acc)])\n\u001b[0;32m     26\u001b[0m plt\u001b[38;5;241m.\u001b[39msemilogx(k_values, tr_acc, label\u001b[38;5;241m=\u001b[39m\u001b[38;5;124m'\u001b[39m\u001b[38;5;124mTraining Acc\u001b[39m\u001b[38;5;124m'\u001b[39m, color\u001b[38;5;241m=\u001b[39m\u001b[38;5;124m'\u001b[39m\u001b[38;5;124mred\u001b[39m\u001b[38;5;124m'\u001b[39m)\n\u001b[0;32m     27\u001b[0m plt\u001b[38;5;241m.\u001b[39msemilogx(k_values, te_acc, label\u001b[38;5;241m=\u001b[39m\u001b[38;5;124m'\u001b[39m\u001b[38;5;124mTesting Acc\u001b[39m\u001b[38;5;124m'\u001b[39m, color\u001b[38;5;241m=\u001b[39m\u001b[38;5;124m'\u001b[39m\u001b[38;5;124mgreen\u001b[39m\u001b[38;5;124m'\u001b[39m)\n",
      "\u001b[1;31mNameError\u001b[0m: name 'n' is not defined"
     ]
    },
    {
     "data": {
      "image/png": "[encoded data removed]",
      "text/plain": [
       "<Figure size 600x600 with 1 Axes>"
      ]
     },
     "metadata": {},
     "output_type": "display_data"
    }
   ],
   "source": [
    "scaler = StandardScaler()\n",
    "scaler.fit(X_train)\n",
    "X_tr = scaler.transform(X_train)\n",
    "X_te = scaler.transform(X_test)\n",
    "X_final = scaler.transform(X_last_test)\n",
    "\n",
    "figure, axes = plt.subplots(1, figsize=(6, 6))\n",
    "\n",
    "k_values = [1,5,10,25,50,75,100,150,300]\n",
    "tr_acc = []\n",
    "te_acc = []\n",
    "for i, k in enumerate(k_values):\n",
    "    knn = KNeighborsClassifier(n_neighbors=k).fit(X_tr,y_train)\n",
    "    \n",
    "    p_tr = knn.predict(X_tr)\n",
    "    p_te = knn.predict(X_te)\n",
    "    \n",
    "    tr_acc.append(accuracy_score(y_train, p_tr))\n",
    "    te_acc.append(accuracy_score(y_test, p_te))\n",
    "\n",
    "    \n",
    "print(tr_acc)\n",
    "print(te_acc)\n",
    "\n",
    "print(\"best\",k_values[np.argmax(te_acc)])\n",
    "plt.semilogx(k_values, tr_acc, label='Training Acc', color='red')\n",
    "plt.semilogx(k_values, te_acc, label='Testing Acc', color='green')\n",
    "plt.xlabel('k_value')\n",
    "plt.ylabel('Accuracy')\n",
    "plt.legend()\n"
   ]
  },
  {
   "cell_type": "code",
   "execution_count": null,
   "id": "5a09d259",
   "metadata": {},
   "outputs": [],
   "source": []
  }
 ],
 "metadata": {
  "kernelspec": {
   "display_name": "Python 3 (ipykernel)",
   "language": "python",
   "name": "python3"
  },
  "language_info": {
   "codemirror_mode": {
    "name": "ipython",
    "version": 3
   },
   "file_extension": ".py",
   "mimetype": "text/x-python",
   "name": "python",
   "nbconvert_exporter": "python",
   "pygments_lexer": "ipython3",
   "version": "3.9.16"
  }
 },
 "nbformat": 4,
 "nbformat_minor": 5
}
